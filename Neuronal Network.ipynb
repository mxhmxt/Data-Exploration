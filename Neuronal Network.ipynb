{
 "cells": [
  {
   "cell_type": "code",
   "execution_count": 12,
   "metadata": {},
   "outputs": [],
   "source": [
    "import numpy as np\n",
    "import pandas as pd\n",
    "from sklearn.model_selection import train_test_split\n",
    "from sklearn.preprocessing import StandardScaler\n",
    "from sklearn.metrics import mean_squared_error, r2_score\n",
    "import tensorflow as tf\n",
    "from tensorflow.keras.models import Sequential\n",
    "from tensorflow.keras.layers import Dense\n",
    "import matplotlib.pyplot as plt"
   ]
  },
  {
   "cell_type": "markdown",
   "metadata": {},
   "source": [
    "### Load dataset"
   ]
  },
  {
   "cell_type": "code",
   "execution_count": 13,
   "metadata": {},
   "outputs": [],
   "source": [
    "df = pd.read_csv('song_data.csv')"
   ]
  },
  {
   "cell_type": "markdown",
   "metadata": {},
   "source": [
    "### Define features and target"
   ]
  },
  {
   "cell_type": "code",
   "execution_count": 14,
   "metadata": {},
   "outputs": [],
   "source": [
    "X = df.drop(['song_name', 'song_popularity'], axis=1)\n",
    "y = df['song_popularity']"
   ]
  },
  {
   "cell_type": "markdown",
   "metadata": {},
   "source": [
    "### Split dataset"
   ]
  },
  {
   "cell_type": "code",
   "execution_count": 15,
   "metadata": {},
   "outputs": [],
   "source": [
    "X_train, X_test, y_train, y_test = train_test_split(X, y, test_size=0.2, random_state=42)"
   ]
  },
  {
   "cell_type": "markdown",
   "metadata": {},
   "source": [
    "### Standardize features"
   ]
  },
  {
   "cell_type": "code",
   "execution_count": 16,
   "metadata": {},
   "outputs": [],
   "source": [
    "scaler = StandardScaler()\n",
    "X_train_scaled = scaler.fit_transform(X_train)\n",
    "X_test_scaled = scaler.transform(X_test)"
   ]
  },
  {
   "cell_type": "markdown",
   "metadata": {},
   "source": [
    "### Define the neural network model"
   ]
  },
  {
   "cell_type": "code",
   "execution_count": 17,
   "metadata": {},
   "outputs": [
    {
     "name": "stderr",
     "output_type": "stream",
     "text": [
      "c:\\Users\\mmarijanovic\\OneDrive - Deloitte (O365D)\\Desktop\\Data Exploration\\Data_Exploration\\lib\\site-packages\\keras\\src\\layers\\core\\dense.py:87: UserWarning: Do not pass an `input_shape`/`input_dim` argument to a layer. When using Sequential models, prefer using an `Input(shape)` object as the first layer in the model instead.\n",
      "  super().__init__(activity_regularizer=activity_regularizer, **kwargs)\n"
     ]
    }
   ],
   "source": [
    "model = Sequential()\n",
    "model.add(Dense(64, input_dim=X_train_scaled.shape[1], activation='relu'))\n",
    "model.add(Dense(32, activation='relu'))\n",
    "model.add(Dense(16, activation='relu'))\n",
    "model.add(Dense(1))  # Output layer for regression"
   ]
  },
  {
   "cell_type": "markdown",
   "metadata": {},
   "source": [
    "### Compile the model"
   ]
  },
  {
   "cell_type": "code",
   "execution_count": 18,
   "metadata": {},
   "outputs": [],
   "source": [
    "model.compile(optimizer='adam', loss='mean_squared_error', metrics=['mean_squared_error'])\n"
   ]
  },
  {
   "cell_type": "markdown",
   "metadata": {},
   "source": [
    "### Train the model"
   ]
  },
  {
   "cell_type": "code",
   "execution_count": 19,
   "metadata": {},
   "outputs": [
    {
     "name": "stdout",
     "output_type": "stream",
     "text": [
      "Epoch 1/100\n",
      "\u001b[1m377/377\u001b[0m \u001b[32m━━━━━━━━━━━━━━━━━━━━\u001b[0m\u001b[37m\u001b[0m \u001b[1m3s\u001b[0m 3ms/step - loss: 2087.5571 - mean_squared_error: 2087.5571 - val_loss: 501.3521 - val_mean_squared_error: 501.3521\n",
      "Epoch 2/100\n",
      "\u001b[1m377/377\u001b[0m \u001b[32m━━━━━━━━━━━━━━━━━━━━\u001b[0m\u001b[37m\u001b[0m \u001b[1m1s\u001b[0m 2ms/step - loss: 495.1382 - mean_squared_error: 495.1382 - val_loss: 476.6451 - val_mean_squared_error: 476.6451\n",
      "Epoch 3/100\n",
      "\u001b[1m377/377\u001b[0m \u001b[32m━━━━━━━━━━━━━━━━━━━━\u001b[0m\u001b[37m\u001b[0m \u001b[1m1s\u001b[0m 2ms/step - loss: 465.0543 - mean_squared_error: 465.0543 - val_loss: 465.1769 - val_mean_squared_error: 465.1769\n",
      "Epoch 4/100\n",
      "\u001b[1m377/377\u001b[0m \u001b[32m━━━━━━━━━━━━━━━━━━━━\u001b[0m\u001b[37m\u001b[0m \u001b[1m1s\u001b[0m 2ms/step - loss: 450.4184 - mean_squared_error: 450.4184 - val_loss: 457.9750 - val_mean_squared_error: 457.9750\n",
      "Epoch 5/100\n",
      "\u001b[1m377/377\u001b[0m \u001b[32m━━━━━━━━━━━━━━━━━━━━\u001b[0m\u001b[37m\u001b[0m \u001b[1m1s\u001b[0m 2ms/step - loss: 443.6682 - mean_squared_error: 443.6682 - val_loss: 454.9088 - val_mean_squared_error: 454.9088\n",
      "Epoch 6/100\n",
      "\u001b[1m377/377\u001b[0m \u001b[32m━━━━━━━━━━━━━━━━━━━━\u001b[0m\u001b[37m\u001b[0m \u001b[1m1s\u001b[0m 2ms/step - loss: 453.0854 - mean_squared_error: 453.0854 - val_loss: 449.3897 - val_mean_squared_error: 449.3897\n",
      "Epoch 7/100\n",
      "\u001b[1m377/377\u001b[0m \u001b[32m━━━━━━━━━━━━━━━━━━━━\u001b[0m\u001b[37m\u001b[0m \u001b[1m1s\u001b[0m 2ms/step - loss: 445.7727 - mean_squared_error: 445.7727 - val_loss: 448.7394 - val_mean_squared_error: 448.7394\n",
      "Epoch 8/100\n",
      "\u001b[1m377/377\u001b[0m \u001b[32m━━━━━━━━━━━━━━━━━━━━\u001b[0m\u001b[37m\u001b[0m \u001b[1m1s\u001b[0m 2ms/step - loss: 441.0521 - mean_squared_error: 441.0521 - val_loss: 451.2879 - val_mean_squared_error: 451.2879\n",
      "Epoch 9/100\n",
      "\u001b[1m377/377\u001b[0m \u001b[32m━━━━━━━━━━━━━━━━━━━━\u001b[0m\u001b[37m\u001b[0m \u001b[1m1s\u001b[0m 2ms/step - loss: 441.6170 - mean_squared_error: 441.6170 - val_loss: 444.0056 - val_mean_squared_error: 444.0056\n",
      "Epoch 10/100\n",
      "\u001b[1m377/377\u001b[0m \u001b[32m━━━━━━━━━━━━━━━━━━━━\u001b[0m\u001b[37m\u001b[0m \u001b[1m1s\u001b[0m 2ms/step - loss: 438.9280 - mean_squared_error: 438.9280 - val_loss: 444.5666 - val_mean_squared_error: 444.5666\n",
      "Epoch 11/100\n",
      "\u001b[1m377/377\u001b[0m \u001b[32m━━━━━━━━━━━━━━━━━━━━\u001b[0m\u001b[37m\u001b[0m \u001b[1m1s\u001b[0m 1ms/step - loss: 440.1354 - mean_squared_error: 440.1354 - val_loss: 440.2706 - val_mean_squared_error: 440.2706\n",
      "Epoch 12/100\n",
      "\u001b[1m377/377\u001b[0m \u001b[32m━━━━━━━━━━━━━━━━━━━━\u001b[0m\u001b[37m\u001b[0m \u001b[1m1s\u001b[0m 2ms/step - loss: 443.7303 - mean_squared_error: 443.7303 - val_loss: 439.8628 - val_mean_squared_error: 439.8628\n",
      "Epoch 13/100\n",
      "\u001b[1m377/377\u001b[0m \u001b[32m━━━━━━━━━━━━━━━━━━━━\u001b[0m\u001b[37m\u001b[0m \u001b[1m1s\u001b[0m 2ms/step - loss: 432.7123 - mean_squared_error: 432.7123 - val_loss: 438.9313 - val_mean_squared_error: 438.9313\n",
      "Epoch 14/100\n",
      "\u001b[1m377/377\u001b[0m \u001b[32m━━━━━━━━━━━━━━━━━━━━\u001b[0m\u001b[37m\u001b[0m \u001b[1m1s\u001b[0m 2ms/step - loss: 436.9839 - mean_squared_error: 436.9839 - val_loss: 441.5254 - val_mean_squared_error: 441.5254\n",
      "Epoch 15/100\n",
      "\u001b[1m377/377\u001b[0m \u001b[32m━━━━━━━━━━━━━━━━━━━━\u001b[0m\u001b[37m\u001b[0m \u001b[1m1s\u001b[0m 2ms/step - loss: 430.2056 - mean_squared_error: 430.2056 - val_loss: 435.8636 - val_mean_squared_error: 435.8636\n",
      "Epoch 16/100\n",
      "\u001b[1m377/377\u001b[0m \u001b[32m━━━━━━━━━━━━━━━━━━━━\u001b[0m\u001b[37m\u001b[0m \u001b[1m1s\u001b[0m 2ms/step - loss: 424.6664 - mean_squared_error: 424.6664 - val_loss: 439.6444 - val_mean_squared_error: 439.6444\n",
      "Epoch 17/100\n",
      "\u001b[1m377/377\u001b[0m \u001b[32m━━━━━━━━━━━━━━━━━━━━\u001b[0m\u001b[37m\u001b[0m \u001b[1m1s\u001b[0m 2ms/step - loss: 420.3662 - mean_squared_error: 420.3662 - val_loss: 437.6951 - val_mean_squared_error: 437.6951\n",
      "Epoch 18/100\n",
      "\u001b[1m377/377\u001b[0m \u001b[32m━━━━━━━━━━━━━━━━━━━━\u001b[0m\u001b[37m\u001b[0m \u001b[1m1s\u001b[0m 2ms/step - loss: 422.6881 - mean_squared_error: 422.6881 - val_loss: 438.8282 - val_mean_squared_error: 438.8282\n",
      "Epoch 19/100\n",
      "\u001b[1m377/377\u001b[0m \u001b[32m━━━━━━━━━━━━━━━━━━━━\u001b[0m\u001b[37m\u001b[0m \u001b[1m1s\u001b[0m 2ms/step - loss: 419.4012 - mean_squared_error: 419.4012 - val_loss: 450.1079 - val_mean_squared_error: 450.1079\n",
      "Epoch 20/100\n",
      "\u001b[1m377/377\u001b[0m \u001b[32m━━━━━━━━━━━━━━━━━━━━\u001b[0m\u001b[37m\u001b[0m \u001b[1m1s\u001b[0m 2ms/step - loss: 421.1186 - mean_squared_error: 421.1186 - val_loss: 431.1576 - val_mean_squared_error: 431.1576\n",
      "Epoch 21/100\n",
      "\u001b[1m377/377\u001b[0m \u001b[32m━━━━━━━━━━━━━━━━━━━━\u001b[0m\u001b[37m\u001b[0m \u001b[1m1s\u001b[0m 1ms/step - loss: 424.7769 - mean_squared_error: 424.7769 - val_loss: 434.7232 - val_mean_squared_error: 434.7232\n",
      "Epoch 22/100\n",
      "\u001b[1m377/377\u001b[0m \u001b[32m━━━━━━━━━━━━━━━━━━━━\u001b[0m\u001b[37m\u001b[0m \u001b[1m1s\u001b[0m 2ms/step - loss: 420.0648 - mean_squared_error: 420.0648 - val_loss: 431.2081 - val_mean_squared_error: 431.2081\n",
      "Epoch 23/100\n",
      "\u001b[1m377/377\u001b[0m \u001b[32m━━━━━━━━━━━━━━━━━━━━\u001b[0m\u001b[37m\u001b[0m \u001b[1m1s\u001b[0m 2ms/step - loss: 417.6537 - mean_squared_error: 417.6537 - val_loss: 439.4680 - val_mean_squared_error: 439.4680\n",
      "Epoch 24/100\n",
      "\u001b[1m377/377\u001b[0m \u001b[32m━━━━━━━━━━━━━━━━━━━━\u001b[0m\u001b[37m\u001b[0m \u001b[1m1s\u001b[0m 2ms/step - loss: 408.8524 - mean_squared_error: 408.8524 - val_loss: 432.8267 - val_mean_squared_error: 432.8267\n",
      "Epoch 25/100\n",
      "\u001b[1m377/377\u001b[0m \u001b[32m━━━━━━━━━━━━━━━━━━━━\u001b[0m\u001b[37m\u001b[0m \u001b[1m1s\u001b[0m 1ms/step - loss: 418.2726 - mean_squared_error: 418.2726 - val_loss: 434.4124 - val_mean_squared_error: 434.4124\n",
      "Epoch 26/100\n",
      "\u001b[1m377/377\u001b[0m \u001b[32m━━━━━━━━━━━━━━━━━━━━\u001b[0m\u001b[37m\u001b[0m \u001b[1m1s\u001b[0m 1ms/step - loss: 406.7154 - mean_squared_error: 406.7154 - val_loss: 430.6151 - val_mean_squared_error: 430.6151\n",
      "Epoch 27/100\n",
      "\u001b[1m377/377\u001b[0m \u001b[32m━━━━━━━━━━━━━━━━━━━━\u001b[0m\u001b[37m\u001b[0m \u001b[1m1s\u001b[0m 2ms/step - loss: 406.2407 - mean_squared_error: 406.2407 - val_loss: 431.6051 - val_mean_squared_error: 431.6051\n",
      "Epoch 28/100\n",
      "\u001b[1m377/377\u001b[0m \u001b[32m━━━━━━━━━━━━━━━━━━━━\u001b[0m\u001b[37m\u001b[0m \u001b[1m1s\u001b[0m 2ms/step - loss: 405.3140 - mean_squared_error: 405.3140 - val_loss: 431.6274 - val_mean_squared_error: 431.6274\n",
      "Epoch 29/100\n",
      "\u001b[1m377/377\u001b[0m \u001b[32m━━━━━━━━━━━━━━━━━━━━\u001b[0m\u001b[37m\u001b[0m \u001b[1m1s\u001b[0m 2ms/step - loss: 417.8207 - mean_squared_error: 417.8207 - val_loss: 432.3929 - val_mean_squared_error: 432.3929\n",
      "Epoch 30/100\n",
      "\u001b[1m377/377\u001b[0m \u001b[32m━━━━━━━━━━━━━━━━━━━━\u001b[0m\u001b[37m\u001b[0m \u001b[1m1s\u001b[0m 2ms/step - loss: 400.2602 - mean_squared_error: 400.2602 - val_loss: 428.0544 - val_mean_squared_error: 428.0544\n",
      "Epoch 31/100\n",
      "\u001b[1m377/377\u001b[0m \u001b[32m━━━━━━━━━━━━━━━━━━━━\u001b[0m\u001b[37m\u001b[0m \u001b[1m1s\u001b[0m 2ms/step - loss: 405.2410 - mean_squared_error: 405.2410 - val_loss: 430.2296 - val_mean_squared_error: 430.2296\n",
      "Epoch 32/100\n",
      "\u001b[1m377/377\u001b[0m \u001b[32m━━━━━━━━━━━━━━━━━━━━\u001b[0m\u001b[37m\u001b[0m \u001b[1m1s\u001b[0m 2ms/step - loss: 401.9945 - mean_squared_error: 401.9945 - val_loss: 433.2176 - val_mean_squared_error: 433.2176\n",
      "Epoch 33/100\n",
      "\u001b[1m377/377\u001b[0m \u001b[32m━━━━━━━━━━━━━━━━━━━━\u001b[0m\u001b[37m\u001b[0m \u001b[1m1s\u001b[0m 2ms/step - loss: 411.0676 - mean_squared_error: 411.0676 - val_loss: 428.6428 - val_mean_squared_error: 428.6428\n",
      "Epoch 34/100\n",
      "\u001b[1m377/377\u001b[0m \u001b[32m━━━━━━━━━━━━━━━━━━━━\u001b[0m\u001b[37m\u001b[0m \u001b[1m1s\u001b[0m 2ms/step - loss: 399.3967 - mean_squared_error: 399.3967 - val_loss: 427.6677 - val_mean_squared_error: 427.6677\n",
      "Epoch 35/100\n",
      "\u001b[1m377/377\u001b[0m \u001b[32m━━━━━━━━━━━━━━━━━━━━\u001b[0m\u001b[37m\u001b[0m \u001b[1m1s\u001b[0m 2ms/step - loss: 407.5155 - mean_squared_error: 407.5155 - val_loss: 432.3009 - val_mean_squared_error: 432.3009\n",
      "Epoch 36/100\n",
      "\u001b[1m377/377\u001b[0m \u001b[32m━━━━━━━━━━━━━━━━━━━━\u001b[0m\u001b[37m\u001b[0m \u001b[1m1s\u001b[0m 2ms/step - loss: 409.8630 - mean_squared_error: 409.8630 - val_loss: 429.6233 - val_mean_squared_error: 429.6233\n",
      "Epoch 37/100\n",
      "\u001b[1m377/377\u001b[0m \u001b[32m━━━━━━━━━━━━━━━━━━━━\u001b[0m\u001b[37m\u001b[0m \u001b[1m1s\u001b[0m 2ms/step - loss: 402.9089 - mean_squared_error: 402.9089 - val_loss: 429.9677 - val_mean_squared_error: 429.9677\n",
      "Epoch 38/100\n",
      "\u001b[1m377/377\u001b[0m \u001b[32m━━━━━━━━━━━━━━━━━━━━\u001b[0m\u001b[37m\u001b[0m \u001b[1m1s\u001b[0m 2ms/step - loss: 400.9157 - mean_squared_error: 400.9157 - val_loss: 427.4343 - val_mean_squared_error: 427.4343\n",
      "Epoch 39/100\n",
      "\u001b[1m377/377\u001b[0m \u001b[32m━━━━━━━━━━━━━━━━━━━━\u001b[0m\u001b[37m\u001b[0m \u001b[1m1s\u001b[0m 2ms/step - loss: 394.6200 - mean_squared_error: 394.6200 - val_loss: 435.6718 - val_mean_squared_error: 435.6718\n",
      "Epoch 40/100\n",
      "\u001b[1m377/377\u001b[0m \u001b[32m━━━━━━━━━━━━━━━━━━━━\u001b[0m\u001b[37m\u001b[0m \u001b[1m1s\u001b[0m 2ms/step - loss: 401.3454 - mean_squared_error: 401.3454 - val_loss: 429.1278 - val_mean_squared_error: 429.1278\n",
      "Epoch 41/100\n",
      "\u001b[1m377/377\u001b[0m \u001b[32m━━━━━━━━━━━━━━━━━━━━\u001b[0m\u001b[37m\u001b[0m \u001b[1m1s\u001b[0m 1ms/step - loss: 398.7372 - mean_squared_error: 398.7372 - val_loss: 428.9644 - val_mean_squared_error: 428.9644\n",
      "Epoch 42/100\n",
      "\u001b[1m377/377\u001b[0m \u001b[32m━━━━━━━━━━━━━━━━━━━━\u001b[0m\u001b[37m\u001b[0m \u001b[1m1s\u001b[0m 2ms/step - loss: 407.7480 - mean_squared_error: 407.7480 - val_loss: 430.9912 - val_mean_squared_error: 430.9912\n",
      "Epoch 43/100\n",
      "\u001b[1m377/377\u001b[0m \u001b[32m━━━━━━━━━━━━━━━━━━━━\u001b[0m\u001b[37m\u001b[0m \u001b[1m1s\u001b[0m 2ms/step - loss: 398.2706 - mean_squared_error: 398.2706 - val_loss: 424.9822 - val_mean_squared_error: 424.9822\n",
      "Epoch 44/100\n",
      "\u001b[1m377/377\u001b[0m \u001b[32m━━━━━━━━━━━━━━━━━━━━\u001b[0m\u001b[37m\u001b[0m \u001b[1m1s\u001b[0m 2ms/step - loss: 390.9726 - mean_squared_error: 390.9726 - val_loss: 426.3163 - val_mean_squared_error: 426.3163\n",
      "Epoch 45/100\n",
      "\u001b[1m377/377\u001b[0m \u001b[32m━━━━━━━━━━━━━━━━━━━━\u001b[0m\u001b[37m\u001b[0m \u001b[1m1s\u001b[0m 2ms/step - loss: 389.9070 - mean_squared_error: 389.9070 - val_loss: 425.5247 - val_mean_squared_error: 425.5247\n",
      "Epoch 46/100\n",
      "\u001b[1m377/377\u001b[0m \u001b[32m━━━━━━━━━━━━━━━━━━━━\u001b[0m\u001b[37m\u001b[0m \u001b[1m1s\u001b[0m 3ms/step - loss: 394.1727 - mean_squared_error: 394.1727 - val_loss: 433.6010 - val_mean_squared_error: 433.6010\n",
      "Epoch 47/100\n",
      "\u001b[1m377/377\u001b[0m \u001b[32m━━━━━━━━━━━━━━━━━━━━\u001b[0m\u001b[37m\u001b[0m \u001b[1m1s\u001b[0m 2ms/step - loss: 397.4993 - mean_squared_error: 397.4993 - val_loss: 429.1197 - val_mean_squared_error: 429.1197\n",
      "Epoch 48/100\n",
      "\u001b[1m377/377\u001b[0m \u001b[32m━━━━━━━━━━━━━━━━━━━━\u001b[0m\u001b[37m\u001b[0m \u001b[1m1s\u001b[0m 2ms/step - loss: 394.0673 - mean_squared_error: 394.0673 - val_loss: 428.4948 - val_mean_squared_error: 428.4948\n",
      "Epoch 49/100\n",
      "\u001b[1m377/377\u001b[0m \u001b[32m━━━━━━━━━━━━━━━━━━━━\u001b[0m\u001b[37m\u001b[0m \u001b[1m1s\u001b[0m 2ms/step - loss: 395.7231 - mean_squared_error: 395.7231 - val_loss: 425.6415 - val_mean_squared_error: 425.6415\n",
      "Epoch 50/100\n",
      "\u001b[1m377/377\u001b[0m \u001b[32m━━━━━━━━━━━━━━━━━━━━\u001b[0m\u001b[37m\u001b[0m \u001b[1m1s\u001b[0m 2ms/step - loss: 385.7802 - mean_squared_error: 385.7802 - val_loss: 431.0954 - val_mean_squared_error: 431.0954\n",
      "Epoch 51/100\n",
      "\u001b[1m377/377\u001b[0m \u001b[32m━━━━━━━━━━━━━━━━━━━━\u001b[0m\u001b[37m\u001b[0m \u001b[1m1s\u001b[0m 2ms/step - loss: 397.7495 - mean_squared_error: 397.7495 - val_loss: 430.7597 - val_mean_squared_error: 430.7597\n",
      "Epoch 52/100\n",
      "\u001b[1m377/377\u001b[0m \u001b[32m━━━━━━━━━━━━━━━━━━━━\u001b[0m\u001b[37m\u001b[0m \u001b[1m1s\u001b[0m 2ms/step - loss: 384.9208 - mean_squared_error: 384.9208 - val_loss: 426.5369 - val_mean_squared_error: 426.5369\n",
      "Epoch 53/100\n",
      "\u001b[1m377/377\u001b[0m \u001b[32m━━━━━━━━━━━━━━━━━━━━\u001b[0m\u001b[37m\u001b[0m \u001b[1m1s\u001b[0m 2ms/step - loss: 382.6850 - mean_squared_error: 382.6850 - val_loss: 428.9777 - val_mean_squared_error: 428.9777\n",
      "Epoch 54/100\n",
      "\u001b[1m377/377\u001b[0m \u001b[32m━━━━━━━━━━━━━━━━━━━━\u001b[0m\u001b[37m\u001b[0m \u001b[1m1s\u001b[0m 2ms/step - loss: 384.4841 - mean_squared_error: 384.4841 - val_loss: 426.2440 - val_mean_squared_error: 426.2440\n",
      "Epoch 55/100\n",
      "\u001b[1m377/377\u001b[0m \u001b[32m━━━━━━━━━━━━━━━━━━━━\u001b[0m\u001b[37m\u001b[0m \u001b[1m1s\u001b[0m 2ms/step - loss: 379.9877 - mean_squared_error: 379.9877 - val_loss: 428.2885 - val_mean_squared_error: 428.2885\n",
      "Epoch 56/100\n",
      "\u001b[1m377/377\u001b[0m \u001b[32m━━━━━━━━━━━━━━━━━━━━\u001b[0m\u001b[37m\u001b[0m \u001b[1m1s\u001b[0m 2ms/step - loss: 393.4641 - mean_squared_error: 393.4641 - val_loss: 428.6026 - val_mean_squared_error: 428.6026\n",
      "Epoch 57/100\n",
      "\u001b[1m377/377\u001b[0m \u001b[32m━━━━━━━━━━━━━━━━━━━━\u001b[0m\u001b[37m\u001b[0m \u001b[1m1s\u001b[0m 2ms/step - loss: 387.3659 - mean_squared_error: 387.3659 - val_loss: 430.0381 - val_mean_squared_error: 430.0381\n",
      "Epoch 58/100\n",
      "\u001b[1m377/377\u001b[0m \u001b[32m━━━━━━━━━━━━━━━━━━━━\u001b[0m\u001b[37m\u001b[0m \u001b[1m1s\u001b[0m 2ms/step - loss: 393.3714 - mean_squared_error: 393.3714 - val_loss: 429.6383 - val_mean_squared_error: 429.6383\n",
      "Epoch 59/100\n",
      "\u001b[1m377/377\u001b[0m \u001b[32m━━━━━━━━━━━━━━━━━━━━\u001b[0m\u001b[37m\u001b[0m \u001b[1m1s\u001b[0m 2ms/step - loss: 383.8306 - mean_squared_error: 383.8306 - val_loss: 425.9531 - val_mean_squared_error: 425.9531\n",
      "Epoch 60/100\n",
      "\u001b[1m377/377\u001b[0m \u001b[32m━━━━━━━━━━━━━━━━━━━━\u001b[0m\u001b[37m\u001b[0m \u001b[1m1s\u001b[0m 2ms/step - loss: 380.9714 - mean_squared_error: 380.9714 - val_loss: 432.1277 - val_mean_squared_error: 432.1277\n",
      "Epoch 61/100\n",
      "\u001b[1m377/377\u001b[0m \u001b[32m━━━━━━━━━━━━━━━━━━━━\u001b[0m\u001b[37m\u001b[0m \u001b[1m1s\u001b[0m 2ms/step - loss: 376.8287 - mean_squared_error: 376.8287 - val_loss: 436.1419 - val_mean_squared_error: 436.1419\n",
      "Epoch 62/100\n",
      "\u001b[1m377/377\u001b[0m \u001b[32m━━━━━━━━━━━━━━━━━━━━\u001b[0m\u001b[37m\u001b[0m \u001b[1m1s\u001b[0m 2ms/step - loss: 387.1289 - mean_squared_error: 387.1289 - val_loss: 432.5516 - val_mean_squared_error: 432.5516\n",
      "Epoch 63/100\n",
      "\u001b[1m377/377\u001b[0m \u001b[32m━━━━━━━━━━━━━━━━━━━━\u001b[0m\u001b[37m\u001b[0m \u001b[1m1s\u001b[0m 2ms/step - loss: 382.9636 - mean_squared_error: 382.9636 - val_loss: 431.4347 - val_mean_squared_error: 431.4347\n",
      "Epoch 64/100\n",
      "\u001b[1m377/377\u001b[0m \u001b[32m━━━━━━━━━━━━━━━━━━━━\u001b[0m\u001b[37m\u001b[0m \u001b[1m1s\u001b[0m 2ms/step - loss: 372.7722 - mean_squared_error: 372.7722 - val_loss: 432.2521 - val_mean_squared_error: 432.2521\n",
      "Epoch 65/100\n",
      "\u001b[1m377/377\u001b[0m \u001b[32m━━━━━━━━━━━━━━━━━━━━\u001b[0m\u001b[37m\u001b[0m \u001b[1m1s\u001b[0m 1ms/step - loss: 378.8790 - mean_squared_error: 378.8790 - val_loss: 427.6836 - val_mean_squared_error: 427.6836\n",
      "Epoch 66/100\n",
      "\u001b[1m377/377\u001b[0m \u001b[32m━━━━━━━━━━━━━━━━━━━━\u001b[0m\u001b[37m\u001b[0m \u001b[1m1s\u001b[0m 2ms/step - loss: 377.1866 - mean_squared_error: 377.1866 - val_loss: 429.4419 - val_mean_squared_error: 429.4419\n",
      "Epoch 67/100\n",
      "\u001b[1m377/377\u001b[0m \u001b[32m━━━━━━━━━━━━━━━━━━━━\u001b[0m\u001b[37m\u001b[0m \u001b[1m1s\u001b[0m 2ms/step - loss: 373.3263 - mean_squared_error: 373.3263 - val_loss: 427.2842 - val_mean_squared_error: 427.2842\n",
      "Epoch 68/100\n",
      "\u001b[1m377/377\u001b[0m \u001b[32m━━━━━━━━━━━━━━━━━━━━\u001b[0m\u001b[37m\u001b[0m \u001b[1m1s\u001b[0m 2ms/step - loss: 379.0777 - mean_squared_error: 379.0777 - val_loss: 431.3304 - val_mean_squared_error: 431.3304\n",
      "Epoch 69/100\n",
      "\u001b[1m377/377\u001b[0m \u001b[32m━━━━━━━━━━━━━━━━━━━━\u001b[0m\u001b[37m\u001b[0m \u001b[1m1s\u001b[0m 2ms/step - loss: 375.9237 - mean_squared_error: 375.9237 - val_loss: 431.0328 - val_mean_squared_error: 431.0328\n",
      "Epoch 70/100\n",
      "\u001b[1m377/377\u001b[0m \u001b[32m━━━━━━━━━━━━━━━━━━━━\u001b[0m\u001b[37m\u001b[0m \u001b[1m1s\u001b[0m 2ms/step - loss: 374.8959 - mean_squared_error: 374.8959 - val_loss: 428.7000 - val_mean_squared_error: 428.7000\n",
      "Epoch 71/100\n",
      "\u001b[1m377/377\u001b[0m \u001b[32m━━━━━━━━━━━━━━━━━━━━\u001b[0m\u001b[37m\u001b[0m \u001b[1m1s\u001b[0m 2ms/step - loss: 374.0530 - mean_squared_error: 374.0530 - val_loss: 427.2773 - val_mean_squared_error: 427.2773\n",
      "Epoch 72/100\n",
      "\u001b[1m377/377\u001b[0m \u001b[32m━━━━━━━━━━━━━━━━━━━━\u001b[0m\u001b[37m\u001b[0m \u001b[1m1s\u001b[0m 2ms/step - loss: 363.5514 - mean_squared_error: 363.5514 - val_loss: 428.9525 - val_mean_squared_error: 428.9525\n",
      "Epoch 73/100\n",
      "\u001b[1m377/377\u001b[0m \u001b[32m━━━━━━━━━━━━━━━━━━━━\u001b[0m\u001b[37m\u001b[0m \u001b[1m1s\u001b[0m 2ms/step - loss: 379.1691 - mean_squared_error: 379.1691 - val_loss: 437.9236 - val_mean_squared_error: 437.9236\n",
      "Epoch 74/100\n",
      "\u001b[1m377/377\u001b[0m \u001b[32m━━━━━━━━━━━━━━━━━━━━\u001b[0m\u001b[37m\u001b[0m \u001b[1m1s\u001b[0m 2ms/step - loss: 360.8566 - mean_squared_error: 360.8566 - val_loss: 436.9868 - val_mean_squared_error: 436.9868\n",
      "Epoch 75/100\n",
      "\u001b[1m377/377\u001b[0m \u001b[32m━━━━━━━━━━━━━━━━━━━━\u001b[0m\u001b[37m\u001b[0m \u001b[1m1s\u001b[0m 2ms/step - loss: 374.1911 - mean_squared_error: 374.1911 - val_loss: 431.1769 - val_mean_squared_error: 431.1769\n",
      "Epoch 76/100\n",
      "\u001b[1m377/377\u001b[0m \u001b[32m━━━━━━━━━━━━━━━━━━━━\u001b[0m\u001b[37m\u001b[0m \u001b[1m1s\u001b[0m 2ms/step - loss: 379.7911 - mean_squared_error: 379.7911 - val_loss: 436.7313 - val_mean_squared_error: 436.7313\n",
      "Epoch 77/100\n",
      "\u001b[1m377/377\u001b[0m \u001b[32m━━━━━━━━━━━━━━━━━━━━\u001b[0m\u001b[37m\u001b[0m \u001b[1m1s\u001b[0m 2ms/step - loss: 382.7291 - mean_squared_error: 382.7291 - val_loss: 431.3317 - val_mean_squared_error: 431.3317\n",
      "Epoch 78/100\n",
      "\u001b[1m377/377\u001b[0m \u001b[32m━━━━━━━━━━━━━━━━━━━━\u001b[0m\u001b[37m\u001b[0m \u001b[1m1s\u001b[0m 2ms/step - loss: 384.3663 - mean_squared_error: 384.3663 - val_loss: 430.4557 - val_mean_squared_error: 430.4557\n",
      "Epoch 79/100\n",
      "\u001b[1m377/377\u001b[0m \u001b[32m━━━━━━━━━━━━━━━━━━━━\u001b[0m\u001b[37m\u001b[0m \u001b[1m1s\u001b[0m 2ms/step - loss: 371.5103 - mean_squared_error: 371.5103 - val_loss: 431.3100 - val_mean_squared_error: 431.3100\n",
      "Epoch 80/100\n",
      "\u001b[1m377/377\u001b[0m \u001b[32m━━━━━━━━━━━━━━━━━━━━\u001b[0m\u001b[37m\u001b[0m \u001b[1m1s\u001b[0m 2ms/step - loss: 366.4732 - mean_squared_error: 366.4732 - val_loss: 435.4718 - val_mean_squared_error: 435.4718\n",
      "Epoch 81/100\n",
      "\u001b[1m377/377\u001b[0m \u001b[32m━━━━━━━━━━━━━━━━━━━━\u001b[0m\u001b[37m\u001b[0m \u001b[1m1s\u001b[0m 1ms/step - loss: 372.2623 - mean_squared_error: 372.2623 - val_loss: 432.4044 - val_mean_squared_error: 432.4044\n",
      "Epoch 82/100\n",
      "\u001b[1m377/377\u001b[0m \u001b[32m━━━━━━━━━━━━━━━━━━━━\u001b[0m\u001b[37m\u001b[0m \u001b[1m1s\u001b[0m 2ms/step - loss: 374.6251 - mean_squared_error: 374.6251 - val_loss: 434.4996 - val_mean_squared_error: 434.4996\n",
      "Epoch 83/100\n",
      "\u001b[1m377/377\u001b[0m \u001b[32m━━━━━━━━━━━━━━━━━━━━\u001b[0m\u001b[37m\u001b[0m \u001b[1m1s\u001b[0m 2ms/step - loss: 372.7570 - mean_squared_error: 372.7570 - val_loss: 428.7487 - val_mean_squared_error: 428.7487\n",
      "Epoch 84/100\n",
      "\u001b[1m377/377\u001b[0m \u001b[32m━━━━━━━━━━━━━━━━━━━━\u001b[0m\u001b[37m\u001b[0m \u001b[1m1s\u001b[0m 2ms/step - loss: 372.3299 - mean_squared_error: 372.3299 - val_loss: 437.4066 - val_mean_squared_error: 437.4066\n",
      "Epoch 85/100\n",
      "\u001b[1m377/377\u001b[0m \u001b[32m━━━━━━━━━━━━━━━━━━━━\u001b[0m\u001b[37m\u001b[0m \u001b[1m1s\u001b[0m 2ms/step - loss: 376.3950 - mean_squared_error: 376.3950 - val_loss: 440.1500 - val_mean_squared_error: 440.1500\n",
      "Epoch 86/100\n",
      "\u001b[1m377/377\u001b[0m \u001b[32m━━━━━━━━━━━━━━━━━━━━\u001b[0m\u001b[37m\u001b[0m \u001b[1m1s\u001b[0m 2ms/step - loss: 368.1411 - mean_squared_error: 368.1411 - val_loss: 440.2676 - val_mean_squared_error: 440.2676\n",
      "Epoch 87/100\n",
      "\u001b[1m377/377\u001b[0m \u001b[32m━━━━━━━━━━━━━━━━━━━━\u001b[0m\u001b[37m\u001b[0m \u001b[1m1s\u001b[0m 2ms/step - loss: 362.0711 - mean_squared_error: 362.0711 - val_loss: 432.5873 - val_mean_squared_error: 432.5873\n",
      "Epoch 88/100\n",
      "\u001b[1m377/377\u001b[0m \u001b[32m━━━━━━━━━━━━━━━━━━━━\u001b[0m\u001b[37m\u001b[0m \u001b[1m1s\u001b[0m 2ms/step - loss: 362.0394 - mean_squared_error: 362.0394 - val_loss: 430.9650 - val_mean_squared_error: 430.9650\n",
      "Epoch 89/100\n",
      "\u001b[1m377/377\u001b[0m \u001b[32m━━━━━━━━━━━━━━━━━━━━\u001b[0m\u001b[37m\u001b[0m \u001b[1m1s\u001b[0m 2ms/step - loss: 361.4211 - mean_squared_error: 361.4211 - val_loss: 438.2731 - val_mean_squared_error: 438.2731\n",
      "Epoch 90/100\n",
      "\u001b[1m377/377\u001b[0m \u001b[32m━━━━━━━━━━━━━━━━━━━━\u001b[0m\u001b[37m\u001b[0m \u001b[1m1s\u001b[0m 2ms/step - loss: 359.5627 - mean_squared_error: 359.5627 - val_loss: 432.8674 - val_mean_squared_error: 432.8674\n",
      "Epoch 91/100\n",
      "\u001b[1m377/377\u001b[0m \u001b[32m━━━━━━━━━━━━━━━━━━━━\u001b[0m\u001b[37m\u001b[0m \u001b[1m1s\u001b[0m 1ms/step - loss: 373.0606 - mean_squared_error: 373.0606 - val_loss: 433.6005 - val_mean_squared_error: 433.6005\n",
      "Epoch 92/100\n",
      "\u001b[1m377/377\u001b[0m \u001b[32m━━━━━━━━━━━━━━━━━━━━\u001b[0m\u001b[37m\u001b[0m \u001b[1m1s\u001b[0m 2ms/step - loss: 366.5178 - mean_squared_error: 366.5178 - val_loss: 439.5518 - val_mean_squared_error: 439.5518\n",
      "Epoch 93/100\n",
      "\u001b[1m377/377\u001b[0m \u001b[32m━━━━━━━━━━━━━━━━━━━━\u001b[0m\u001b[37m\u001b[0m \u001b[1m1s\u001b[0m 2ms/step - loss: 370.4803 - mean_squared_error: 370.4803 - val_loss: 443.2409 - val_mean_squared_error: 443.2409\n",
      "Epoch 94/100\n",
      "\u001b[1m377/377\u001b[0m \u001b[32m━━━━━━━━━━━━━━━━━━━━\u001b[0m\u001b[37m\u001b[0m \u001b[1m1s\u001b[0m 2ms/step - loss: 363.4961 - mean_squared_error: 363.4961 - val_loss: 434.8372 - val_mean_squared_error: 434.8372\n",
      "Epoch 95/100\n",
      "\u001b[1m377/377\u001b[0m \u001b[32m━━━━━━━━━━━━━━━━━━━━\u001b[0m\u001b[37m\u001b[0m \u001b[1m1s\u001b[0m 2ms/step - loss: 369.4377 - mean_squared_error: 369.4377 - val_loss: 435.1735 - val_mean_squared_error: 435.1735\n",
      "Epoch 96/100\n",
      "\u001b[1m377/377\u001b[0m \u001b[32m━━━━━━━━━━━━━━━━━━━━\u001b[0m\u001b[37m\u001b[0m \u001b[1m1s\u001b[0m 1ms/step - loss: 358.2822 - mean_squared_error: 358.2822 - val_loss: 436.9450 - val_mean_squared_error: 436.9450\n",
      "Epoch 97/100\n",
      "\u001b[1m377/377\u001b[0m \u001b[32m━━━━━━━━━━━━━━━━━━━━\u001b[0m\u001b[37m\u001b[0m \u001b[1m1s\u001b[0m 1ms/step - loss: 356.7567 - mean_squared_error: 356.7567 - val_loss: 438.5749 - val_mean_squared_error: 438.5749\n",
      "Epoch 98/100\n",
      "\u001b[1m377/377\u001b[0m \u001b[32m━━━━━━━━━━━━━━━━━━━━\u001b[0m\u001b[37m\u001b[0m \u001b[1m1s\u001b[0m 2ms/step - loss: 368.0867 - mean_squared_error: 368.0867 - val_loss: 444.5010 - val_mean_squared_error: 444.5010\n",
      "Epoch 99/100\n",
      "\u001b[1m377/377\u001b[0m \u001b[32m━━━━━━━━━━━━━━━━━━━━\u001b[0m\u001b[37m\u001b[0m \u001b[1m1s\u001b[0m 2ms/step - loss: 355.2097 - mean_squared_error: 355.2097 - val_loss: 433.8344 - val_mean_squared_error: 433.8344\n",
      "Epoch 100/100\n",
      "\u001b[1m377/377\u001b[0m \u001b[32m━━━━━━━━━━━━━━━━━━━━\u001b[0m\u001b[37m\u001b[0m \u001b[1m1s\u001b[0m 1ms/step - loss: 362.0604 - mean_squared_error: 362.0604 - val_loss: 437.2870 - val_mean_squared_error: 437.2870\n"
     ]
    }
   ],
   "source": [
    "history = model.fit(X_train_scaled, y_train, epochs=100, batch_size=32, validation_split=0.2)\n"
   ]
  },
  {
   "cell_type": "markdown",
   "metadata": {},
   "source": [
    "### Make predictions"
   ]
  },
  {
   "cell_type": "code",
   "execution_count": 20,
   "metadata": {},
   "outputs": [
    {
     "name": "stdout",
     "output_type": "stream",
     "text": [
      "\u001b[1m118/118\u001b[0m \u001b[32m━━━━━━━━━━━━━━━━━━━━\u001b[0m\u001b[37m\u001b[0m \u001b[1m0s\u001b[0m 1ms/step\n"
     ]
    }
   ],
   "source": [
    "y_pred_nn = model.predict(X_test_scaled)"
   ]
  },
  {
   "cell_type": "markdown",
   "metadata": {},
   "source": [
    "### Evaluate the model"
   ]
  },
  {
   "cell_type": "code",
   "execution_count": 21,
   "metadata": {},
   "outputs": [
    {
     "name": "stdout",
     "output_type": "stream",
     "text": [
      "Neural Network Mean Squared Error: 440.38217318355254\n",
      "Neural Network R^2 Score: 0.08648943901062012\n"
     ]
    }
   ],
   "source": [
    "mse_nn = mean_squared_error(y_test, y_pred_nn)\n",
    "r2_nn = r2_score(y_test, y_pred_nn)\n",
    "\n",
    "print(f'Neural Network Mean Squared Error: {mse_nn}')\n",
    "print(f'Neural Network R^2 Score: {r2_nn}')"
   ]
  },
  {
   "cell_type": "markdown",
   "metadata": {},
   "source": [
    "### Plot training & validation loss values"
   ]
  },
  {
   "cell_type": "code",
   "execution_count": 22,
   "metadata": {},
   "outputs": [
    {
     "data": {
      "image/png": "[encoded data removed]",
      "text/plain": [
       "<Figure size 1000x600 with 1 Axes>"
      ]
     },
     "metadata": {},
     "output_type": "display_data"
    }
   ],
   "source": [
    "plt.figure(figsize=(10, 6))\n",
    "plt.plot(history.history['loss'])\n",
    "plt.plot(history.history['val_loss'])\n",
    "plt.title('Model loss')\n",
    "plt.ylabel('Loss')\n",
    "plt.xlabel('Epoch')\n",
    "plt.legend(['Train', 'Validation'], loc='upper right')\n",
    "plt.show()"
   ]
  }
 ],
 "metadata": {
  "kernelspec": {
   "display_name": "Data_Exploration",
   "language": "python",
   "name": "python3"
  },
  "language_info": {
   "codemirror_mode": {
    "name": "ipython",
    "version": 3
   },
   "file_extension": ".py",
   "mimetype": "text/x-python",
   "name": "python",
   "nbconvert_exporter": "python",
   "pygments_lexer": "ipython3",
   "version": "3.10.5"
  }
 },
 "nbformat": 4,
 "nbformat_minor": 2
}
